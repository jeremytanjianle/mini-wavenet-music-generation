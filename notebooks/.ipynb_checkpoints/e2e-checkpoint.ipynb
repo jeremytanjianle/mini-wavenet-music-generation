{
 "cells": [
  {
   "cell_type": "markdown",
   "id": "30c00769",
   "metadata": {},
   "source": [
    "## Music Generation with a mini wavenet\n",
    "Wavenet reads raw audio and generates music. For a micro experiment with limited data, we can reduce the difficulty of the training task by directly sampling the notes of the music directly to simplify the problem. "
   ]
  },
  {
   "cell_type": "code",
   "execution_count": 1,
   "id": "c75d42de",
   "metadata": {},
   "outputs": [],
   "source": [
    "import os\n",
    "\n",
    "while 'notebook' in os.getcwd():\n",
    "    os.chdir('..')"
   ]
  },
  {
   "cell_type": "markdown",
   "id": "ccd1a083",
   "metadata": {},
   "source": [
    "### 1. Read data\n",
    "Data is retrieved from: http://www.piano-midi.de/schub.html  \n",
    "The midi files are read and saved as a numpy array of the notes.  \n",
    "\n",
    "Warning: the cell below may take a while. Instead, you can read the numpy array directly. "
   ]
  },
  {
   "cell_type": "code",
   "execution_count": 25,
   "id": "a6f8b0be",
   "metadata": {},
   "outputs": [
    {
     "data": {
      "text/plain": [
       "array(['D5', 'B-2', 'D4', ..., '5.10', '10.2.5', '5.10'], dtype='<U8')"
      ]
     },
     "metadata": {},
     "output_type": "display_data"
    }
   ],
   "source": [
    "from collections import Counter\n",
    "import numpy as np\n",
    "import matplotlib.pyplot as plt\n",
    "from music21 import converter, instrument, note, chord, stream, corpus, midi\n",
    "\n",
    "#defining function to read MIDI files\n",
    "def read_midi(file, verbose=False):\n",
    "    \n",
    "    if verbose: print(\"Loading Music File:\",file)\n",
    "    \n",
    "    notes=[]\n",
    "    notes_to_parse = None\n",
    "    \n",
    "    #parsing a midi file\n",
    "    midi = converter.parse(file)\n",
    "  \n",
    "    #grouping based on different instruments\n",
    "    s2 = instrument.partitionByInstrument(midi)\n",
    "\n",
    "    #Looping over all the instruments\n",
    "    for part in s2.parts:\n",
    "    \n",
    "        #select elements of only piano\n",
    "        if 'Piano' in str(part): \n",
    "        \n",
    "            notes_to_parse = part.recurse() \n",
    "      \n",
    "            #finding whether a particular element is note or a chord\n",
    "            for element in notes_to_parse:\n",
    "                \n",
    "                #note\n",
    "                if isinstance(element, note.Note):\n",
    "                    notes.append(str(element.pitch))\n",
    "                \n",
    "                #chord\n",
    "                elif isinstance(element, chord.Chord):\n",
    "                    notes.append('.'.join(str(n) for n in element.normalOrder))\n",
    "\n",
    "    return np.array(notes)\n",
    "\n",
    "#specify the path\n",
    "path='schubert/'\n",
    "\n",
    "#read all the filenames\n",
    "files=[i for i in os.listdir(path) if i.endswith(\".mid\")]\n",
    "\n",
    "#reading each midi file\n",
    "notes_array = np.array([read_midi(path+i) for i in files])\n",
    "\n",
    "with open('notes_array.npy', 'wb') as f:\n",
    "    np.save(f, notes_array)\n",
    "    \n",
    "# with open('notes_array.npy', 'wb') as f:\n",
    "#     notes_array = np.load(f)\n",
    "\n",
    "display(notes_array[0])"
   ]
  },
  {
   "cell_type": "markdown",
   "id": "549ed002",
   "metadata": {},
   "source": [
    "### 2. EDA: what do the unique notes look like?\n",
    "There seems to be a \"power law\" with the notes, that is, a small number of notes dominate the songs. "
   ]
  },
  {
   "cell_type": "code",
   "execution_count": 4,
   "id": "18a23b9b",
   "metadata": {},
   "outputs": [
    {
     "name": "stdout",
     "output_type": "stream",
     "text": [
      "345\n"
     ]
    },
    {
     "data": {
      "text/plain": [
       "(array([221.,  40.,  31.,  13.,   8.,   3.,   7.,   9.,   7.,   6.]),\n",
       " array([1.0000e+00, 1.6170e+02, 3.2240e+02, 4.8310e+02, 6.4380e+02,\n",
       "        8.0450e+02, 9.6520e+02, 1.1259e+03, 1.2866e+03, 1.4473e+03,\n",
       "        1.6080e+03]),\n",
       " <BarContainer object of 10 artists>)"
      ]
     },
     "execution_count": 4,
     "metadata": {},
     "output_type": "execute_result"
    },
    {
     "data": {
      "image/png": "[encoded data removed]",
      "text/plain": [
       "<Figure size 360x360 with 1 Axes>"
      ]
     },
     "metadata": {
      "image/png": {
       "height": 302,
       "width": 319
      },
      "needs_background": "light"
     },
     "output_type": "display_data"
    }
   ],
   "source": [
    "#converting 2D array into 1D array\n",
    "notes_ = [element for note_ in notes_array for element in note_]\n",
    "unique_notes = list(set(notes_))\n",
    "print(len(unique_notes))\n",
    "\n",
    "#computing frequency of each note\n",
    "freq = dict(Counter(notes_))\n",
    "no=[count for _,count in freq.items()]\n",
    "\n",
    "#set the figure size\n",
    "plt.figure(figsize=(5,5))\n",
    "plt.hist(no)"
   ]
  },
  {
   "cell_type": "markdown",
   "id": "3fc88150",
   "metadata": {},
   "source": [
    "### 3. Preparing data\n",
    "To make our training task easier:\n",
    "1. Keep the most frequent notes. This will remove uncommon notes. \n",
    "2. Break into pairs of input and output notes as X and Y for training.\n",
    "3. assign integer to each note. This is similar to tokenization for NLP. \n",
    "4. Split data into train and test set for experimentation."
   ]
  },
  {
   "cell_type": "code",
   "execution_count": 21,
   "id": "4643aaac",
   "metadata": {},
   "outputs": [
    {
     "name": "stdout",
     "output_type": "stream",
     "text": [
      "182 frequent notes found\n"
     ]
    },
    {
     "name": "stderr",
     "output_type": "stream",
     "text": [
      "/home/jeremy/anaconda3/envs/wavenet/lib/python3.7/site-packages/ipykernel_launcher.py:13: VisibleDeprecationWarning: Creating an ndarray from ragged nested sequences (which is a list-or-tuple of lists-or-tuples-or ndarrays with different lengths or shapes) is deprecated. If you meant to do this, you must specify 'dtype=object' when creating the ndarray\n",
      "  del sys.path[0]\n"
     ]
    }
   ],
   "source": [
    "frequent_notes = [note_ for note_, count in freq.items() if count>=50]\n",
    "print(f\"{len(frequent_notes)} frequent notes found\")\n",
    "\n",
    "new_music=[]\n",
    "\n",
    "for notes in notes_array:\n",
    "    temp=[]\n",
    "    for note_ in notes:\n",
    "        if note_ in frequent_notes:\n",
    "            temp.append(note_)            \n",
    "    new_music.append(temp)\n",
    "    \n",
    "new_music = np.array(new_music)"
   ]
  },
  {
   "cell_type": "code",
   "execution_count": 10,
   "id": "78ad6f4e",
   "metadata": {},
   "outputs": [],
   "source": [
    "no_of_timesteps = 32\n",
    "x = []\n",
    "y = []\n",
    "\n",
    "for note_ in new_music:\n",
    "    for i in range(0, len(note_) - no_of_timesteps, 1):\n",
    "        \n",
    "        #preparing input and output sequences\n",
    "        input_ = note_[i:i + no_of_timesteps]\n",
    "        output = note_[i + no_of_timesteps]\n",
    "        \n",
    "        x.append(input_)\n",
    "        y.append(output)\n",
    "        \n",
    "x=np.array(x)\n",
    "y=np.array(y)"
   ]
  },
  {
   "cell_type": "code",
   "execution_count": 11,
   "id": "7eecda0a",
   "metadata": {},
   "outputs": [],
   "source": [
    "unique_x = list(set(x.ravel()))\n",
    "x_note_to_int = dict((note_, number) for number, note_ in enumerate(unique_x))\n",
    "\n",
    "#preparing input sequences\n",
    "x_seq=[]\n",
    "for i in x:\n",
    "    temp=[]\n",
    "    for j in i:\n",
    "        #assigning unique integer to every note\n",
    "        temp.append(x_note_to_int[j])\n",
    "    x_seq.append(temp)\n",
    "    \n",
    "x_seq = np.array(x_seq)\n",
    "\n",
    "unique_y = list(set(y))\n",
    "y_note_to_int = dict((note_, number) for number, note_ in enumerate(unique_y)) \n",
    "y_seq=np.array([y_note_to_int[i] for i in y])"
   ]
  },
  {
   "cell_type": "code",
   "execution_count": 12,
   "id": "6d8df2e4",
   "metadata": {},
   "outputs": [],
   "source": [
    "from sklearn.model_selection import train_test_split\n",
    "x_tr, x_val, y_tr, y_val = train_test_split(x_seq,y_seq,test_size=0.2,random_state=0)"
   ]
  },
  {
   "cell_type": "markdown",
   "id": "a91e02f8",
   "metadata": {},
   "source": [
    "### 4. Define model\n",
    "Define wavenet.  \n",
    "One key difference in the model is that residual connections are removed, because the training data is so small anyway - we should be able to reach convergence quite soon. "
   ]
  },
  {
   "cell_type": "code",
   "execution_count": 44,
   "id": "4b55c42f",
   "metadata": {},
   "outputs": [
    {
     "name": "stderr",
     "output_type": "stream",
     "text": [
      "2021-10-21 21:01:16.733867: W tensorflow/stream_executor/platform/default/dso_loader.cc:64] Could not load dynamic library 'libcudart.so.11.0'; dlerror: libcudart.so.11.0: cannot open shared object file: No such file or directory\n",
      "2021-10-21 21:01:16.733896: I tensorflow/stream_executor/cuda/cudart_stub.cc:29] Ignore above cudart dlerror if you do not have a GPU set up on your machine.\n"
     ]
    },
    {
     "name": "stdout",
     "output_type": "stream",
     "text": [
      "Model: \"sequential\"\n",
      "_________________________________________________________________\n",
      "Layer (type)                 Output Shape              Param #   \n",
      "=================================================================\n",
      "embedding (Embedding)        (None, 32, 100)           18200     \n",
      "_________________________________________________________________\n",
      "conv1d (Conv1D)              (None, 32, 64)            19264     \n",
      "_________________________________________________________________\n",
      "dropout (Dropout)            (None, 32, 64)            0         \n",
      "_________________________________________________________________\n",
      "max_pooling1d (MaxPooling1D) (None, 16, 64)            0         \n",
      "_________________________________________________________________\n",
      "conv1d_1 (Conv1D)            (None, 16, 128)           24704     \n",
      "_________________________________________________________________\n",
      "dropout_1 (Dropout)          (None, 16, 128)           0         \n",
      "_________________________________________________________________\n",
      "max_pooling1d_1 (MaxPooling1 (None, 8, 128)            0         \n",
      "_________________________________________________________________\n",
      "conv1d_2 (Conv1D)            (None, 8, 256)            98560     \n",
      "_________________________________________________________________\n",
      "dropout_2 (Dropout)          (None, 8, 256)            0         \n",
      "_________________________________________________________________\n",
      "max_pooling1d_2 (MaxPooling1 (None, 4, 256)            0         \n",
      "_________________________________________________________________\n",
      "global_max_pooling1d (Global (None, 256)               0         \n",
      "_________________________________________________________________\n",
      "dense (Dense)                (None, 256)               65792     \n",
      "_________________________________________________________________\n",
      "dense_1 (Dense)              (None, 182)               46774     \n",
      "=================================================================\n",
      "Total params: 273,294\n",
      "Trainable params: 273,294\n",
      "Non-trainable params: 0\n",
      "_________________________________________________________________\n"
     ]
    },
    {
     "name": "stderr",
     "output_type": "stream",
     "text": [
      "2021-10-21 21:01:17.559956: I tensorflow/stream_executor/cuda/cuda_gpu_executor.cc:937] successful NUMA node read from SysFS had negative value (-1), but there must be at least one NUMA node, so returning NUMA node zero\n",
      "2021-10-21 21:01:17.560454: I tensorflow/stream_executor/cuda/cuda_gpu_executor.cc:937] successful NUMA node read from SysFS had negative value (-1), but there must be at least one NUMA node, so returning NUMA node zero\n",
      "2021-10-21 21:01:17.561088: W tensorflow/stream_executor/platform/default/dso_loader.cc:64] Could not load dynamic library 'libcudart.so.11.0'; dlerror: libcudart.so.11.0: cannot open shared object file: No such file or directory\n",
      "2021-10-21 21:01:17.561148: W tensorflow/stream_executor/platform/default/dso_loader.cc:64] Could not load dynamic library 'libcublas.so.11'; dlerror: libcublas.so.11: cannot open shared object file: No such file or directory\n",
      "2021-10-21 21:01:17.561195: W tensorflow/stream_executor/platform/default/dso_loader.cc:64] Could not load dynamic library 'libcublasLt.so.11'; dlerror: libcublasLt.so.11: cannot open shared object file: No such file or directory\n",
      "2021-10-21 21:01:17.561238: W tensorflow/stream_executor/platform/default/dso_loader.cc:64] Could not load dynamic library 'libcufft.so.10'; dlerror: libcufft.so.10: cannot open shared object file: No such file or directory\n",
      "2021-10-21 21:01:17.561281: W tensorflow/stream_executor/platform/default/dso_loader.cc:64] Could not load dynamic library 'libcurand.so.10'; dlerror: libcurand.so.10: cannot open shared object file: No such file or directory\n",
      "2021-10-21 21:01:17.561326: W tensorflow/stream_executor/platform/default/dso_loader.cc:64] Could not load dynamic library 'libcusolver.so.11'; dlerror: libcusolver.so.11: cannot open shared object file: No such file or directory\n",
      "2021-10-21 21:01:17.561370: W tensorflow/stream_executor/platform/default/dso_loader.cc:64] Could not load dynamic library 'libcusparse.so.11'; dlerror: libcusparse.so.11: cannot open shared object file: No such file or directory\n",
      "2021-10-21 21:01:17.561433: W tensorflow/stream_executor/platform/default/dso_loader.cc:64] Could not load dynamic library 'libcudnn.so.8'; dlerror: libcudnn.so.8: cannot open shared object file: No such file or directory\n",
      "2021-10-21 21:01:17.561452: W tensorflow/core/common_runtime/gpu/gpu_device.cc:1835] Cannot dlopen some GPU libraries. Please make sure the missing libraries mentioned above are installed properly if you would like to use GPU. Follow the guide at https://www.tensorflow.org/install/gpu for how to download and setup the required libraries for your platform.\n",
      "Skipping registering GPU devices...\n",
      "2021-10-21 21:01:17.561643: I tensorflow/core/platform/cpu_feature_guard.cc:142] This TensorFlow binary is optimized with oneAPI Deep Neural Network Library (oneDNN) to use the following CPU instructions in performance-critical operations:  AVX2 FMA\n",
      "To enable them in other operations, rebuild TensorFlow with the appropriate compiler flags.\n"
     ]
    }
   ],
   "source": [
    "from keras.layers import *\n",
    "from keras.models import *\n",
    "from keras.callbacks import *\n",
    "import keras.backend as K\n",
    "\n",
    "K.clear_session()\n",
    "model = Sequential()\n",
    "    \n",
    "#embedding layer\n",
    "model.add(Embedding(len(unique_x), 100, input_length=32,trainable=True)) \n",
    "\n",
    "model.add(Conv1D(64,3, padding='causal',activation='relu'))\n",
    "model.add(Dropout(0.2))\n",
    "model.add(MaxPool1D(2))\n",
    "    \n",
    "model.add(Conv1D(128,3,activation='relu',dilation_rate=2,padding='causal'))\n",
    "model.add(Dropout(0.2))\n",
    "model.add(MaxPool1D(2))\n",
    "\n",
    "model.add(Conv1D(256,3,activation='relu',dilation_rate=4,padding='causal'))\n",
    "model.add(Dropout(0.2))\n",
    "model.add(MaxPool1D(2))\n",
    "          \n",
    "#model.add(Conv1D(256,5,activation='relu'))    \n",
    "model.add(GlobalMaxPool1D())\n",
    "    \n",
    "model.add(Dense(256, activation='relu'))\n",
    "model.add(Dense(len(unique_y), activation='softmax'))\n",
    "    \n",
    "model.compile(loss='sparse_categorical_crossentropy', optimizer='adam')\n",
    "\n",
    "model.summary()"
   ]
  },
  {
   "cell_type": "code",
   "execution_count": 45,
   "id": "afd7f371",
   "metadata": {
    "scrolled": true
   },
   "outputs": [
    {
     "name": "stderr",
     "output_type": "stream",
     "text": [
      "2021-10-21 21:01:25.255624: I tensorflow/compiler/mlir/mlir_graph_optimization_pass.cc:185] None of the MLIR Optimization Passes are enabled (registered 2)\n"
     ]
    },
    {
     "name": "stdout",
     "output_type": "stream",
     "text": [
      "Epoch 1/50\n",
      "492/492 [==============================] - 9s 17ms/step - loss: 4.3593 - val_loss: 4.1586\n",
      "\n",
      "Epoch 00001: val_loss improved from inf to 4.15864, saving model to best_model.h5\n",
      "Epoch 2/50\n",
      "492/492 [==============================] - 9s 18ms/step - loss: 3.8802 - val_loss: 3.9260\n",
      "\n",
      "Epoch 00002: val_loss improved from 4.15864 to 3.92598, saving model to best_model.h5\n",
      "Epoch 3/50\n",
      "492/492 [==============================] - 8s 16ms/step - loss: 3.7052 - val_loss: 3.7704\n",
      "\n",
      "Epoch 00003: val_loss improved from 3.92598 to 3.77042, saving model to best_model.h5\n",
      "Epoch 4/50\n",
      "492/492 [==============================] - 9s 18ms/step - loss: 3.5789 - val_loss: 3.7276\n",
      "\n",
      "Epoch 00004: val_loss improved from 3.77042 to 3.72757, saving model to best_model.h5\n",
      "Epoch 5/50\n",
      "492/492 [==============================] - 8s 17ms/step - loss: 3.4891 - val_loss: 3.6268\n",
      "\n",
      "Epoch 00005: val_loss improved from 3.72757 to 3.62685, saving model to best_model.h5\n",
      "Epoch 6/50\n",
      "492/492 [==============================] - 9s 17ms/step - loss: 3.4146 - val_loss: 3.5685\n",
      "\n",
      "Epoch 00006: val_loss improved from 3.62685 to 3.56853, saving model to best_model.h5\n",
      "Epoch 7/50\n",
      "492/492 [==============================] - 8s 16ms/step - loss: 3.3524 - val_loss: 3.5356\n",
      "\n",
      "Epoch 00007: val_loss improved from 3.56853 to 3.53560, saving model to best_model.h5\n",
      "Epoch 8/50\n",
      "492/492 [==============================] - 8s 17ms/step - loss: 3.2945 - val_loss: 3.4741\n",
      "\n",
      "Epoch 00008: val_loss improved from 3.53560 to 3.47415, saving model to best_model.h5\n",
      "Epoch 9/50\n",
      "492/492 [==============================] - 8s 16ms/step - loss: 3.2444 - val_loss: 3.4559\n",
      "\n",
      "Epoch 00009: val_loss improved from 3.47415 to 3.45590, saving model to best_model.h5\n",
      "Epoch 10/50\n",
      "492/492 [==============================] - 8s 16ms/step - loss: 3.2004 - val_loss: 3.4231\n",
      "\n",
      "Epoch 00010: val_loss improved from 3.45590 to 3.42310, saving model to best_model.h5\n",
      "Epoch 11/50\n",
      "492/492 [==============================] - 8s 16ms/step - loss: 3.1577 - val_loss: 3.4050\n",
      "\n",
      "Epoch 00011: val_loss improved from 3.42310 to 3.40504, saving model to best_model.h5\n",
      "Epoch 12/50\n",
      "492/492 [==============================] - 8s 16ms/step - loss: 3.1203 - val_loss: 3.3714\n",
      "\n",
      "Epoch 00012: val_loss improved from 3.40504 to 3.37136, saving model to best_model.h5\n",
      "Epoch 13/50\n",
      "492/492 [==============================] - 8s 17ms/step - loss: 3.0918 - val_loss: 3.3454\n",
      "\n",
      "Epoch 00013: val_loss improved from 3.37136 to 3.34538, saving model to best_model.h5\n",
      "Epoch 14/50\n",
      "492/492 [==============================] - 8s 17ms/step - loss: 3.0520 - val_loss: 3.3471\n",
      "\n",
      "Epoch 00014: val_loss did not improve from 3.34538\n",
      "Epoch 15/50\n",
      "492/492 [==============================] - 8s 16ms/step - loss: 3.0222 - val_loss: 3.3334\n",
      "\n",
      "Epoch 00015: val_loss improved from 3.34538 to 3.33337, saving model to best_model.h5\n",
      "Epoch 16/50\n",
      "492/492 [==============================] - 8s 16ms/step - loss: 2.9982 - val_loss: 3.3148\n",
      "\n",
      "Epoch 00016: val_loss improved from 3.33337 to 3.31476, saving model to best_model.h5\n",
      "Epoch 17/50\n",
      "492/492 [==============================] - 9s 17ms/step - loss: 2.9717 - val_loss: 3.2780\n",
      "\n",
      "Epoch 00017: val_loss improved from 3.31476 to 3.27805, saving model to best_model.h5\n",
      "Epoch 18/50\n",
      "492/492 [==============================] - 8s 16ms/step - loss: 2.9464 - val_loss: 3.2920\n",
      "\n",
      "Epoch 00018: val_loss did not improve from 3.27805\n",
      "Epoch 19/50\n",
      "492/492 [==============================] - 8s 16ms/step - loss: 2.9252 - val_loss: 3.2841\n",
      "\n",
      "Epoch 00019: val_loss did not improve from 3.27805\n",
      "Epoch 20/50\n",
      "492/492 [==============================] - 8s 16ms/step - loss: 2.9058 - val_loss: 3.2547\n",
      "\n",
      "Epoch 00020: val_loss improved from 3.27805 to 3.25471, saving model to best_model.h5\n",
      "Epoch 21/50\n",
      "492/492 [==============================] - 8s 16ms/step - loss: 2.8834 - val_loss: 3.2691\n",
      "\n",
      "Epoch 00021: val_loss did not improve from 3.25471\n",
      "Epoch 22/50\n",
      "492/492 [==============================] - 8s 16ms/step - loss: 2.8696 - val_loss: 3.2466\n",
      "\n",
      "Epoch 00022: val_loss improved from 3.25471 to 3.24660, saving model to best_model.h5\n",
      "Epoch 23/50\n",
      "492/492 [==============================] - 8s 16ms/step - loss: 2.8530 - val_loss: 3.2417\n",
      "\n",
      "Epoch 00023: val_loss improved from 3.24660 to 3.24165, saving model to best_model.h5\n",
      "Epoch 24/50\n",
      "492/492 [==============================] - 8s 16ms/step - loss: 2.8351 - val_loss: 3.2267\n",
      "\n",
      "Epoch 00024: val_loss improved from 3.24165 to 3.22672, saving model to best_model.h5\n",
      "Epoch 25/50\n",
      "492/492 [==============================] - 8s 16ms/step - loss: 2.8153 - val_loss: 3.2300\n",
      "\n",
      "Epoch 00025: val_loss did not improve from 3.22672\n",
      "Epoch 26/50\n",
      "492/492 [==============================] - 8s 17ms/step - loss: 2.8001 - val_loss: 3.2225\n",
      "\n",
      "Epoch 00026: val_loss improved from 3.22672 to 3.22247, saving model to best_model.h5\n",
      "Epoch 27/50\n",
      "492/492 [==============================] - 8s 16ms/step - loss: 2.7873 - val_loss: 3.2166\n",
      "\n",
      "Epoch 00027: val_loss improved from 3.22247 to 3.21658, saving model to best_model.h5\n",
      "Epoch 28/50\n",
      "492/492 [==============================] - 8s 16ms/step - loss: 2.7776 - val_loss: 3.2080\n",
      "\n",
      "Epoch 00028: val_loss improved from 3.21658 to 3.20797, saving model to best_model.h5\n",
      "Epoch 29/50\n",
      "492/492 [==============================] - 8s 16ms/step - loss: 2.7659 - val_loss: 3.2023\n",
      "\n",
      "Epoch 00029: val_loss improved from 3.20797 to 3.20234, saving model to best_model.h5\n",
      "Epoch 30/50\n",
      "492/492 [==============================] - 8s 16ms/step - loss: 2.7594 - val_loss: 3.1869\n",
      "\n",
      "Epoch 00030: val_loss improved from 3.20234 to 3.18687, saving model to best_model.h5\n",
      "Epoch 31/50\n",
      "492/492 [==============================] - 8s 16ms/step - loss: 2.7424 - val_loss: 3.1940\n",
      "\n",
      "Epoch 00031: val_loss did not improve from 3.18687\n",
      "Epoch 32/50\n",
      "492/492 [==============================] - 8s 17ms/step - loss: 2.7303 - val_loss: 3.1865\n",
      "\n",
      "Epoch 00032: val_loss improved from 3.18687 to 3.18647, saving model to best_model.h5\n",
      "Epoch 33/50\n",
      "492/492 [==============================] - 9s 18ms/step - loss: 2.7169 - val_loss: 3.1781\n",
      "\n",
      "Epoch 00033: val_loss improved from 3.18647 to 3.17809, saving model to best_model.h5\n",
      "Epoch 34/50\n",
      "492/492 [==============================] - 10s 19ms/step - loss: 2.7139 - val_loss: 3.1715\n",
      "\n",
      "Epoch 00034: val_loss improved from 3.17809 to 3.17152, saving model to best_model.h5\n",
      "Epoch 35/50\n",
      "492/492 [==============================] - 9s 19ms/step - loss: 2.6971 - val_loss: 3.1747\n",
      "\n",
      "Epoch 00035: val_loss did not improve from 3.17152\n",
      "Epoch 36/50\n",
      "492/492 [==============================] - 8s 17ms/step - loss: 2.6941 - val_loss: 3.1733\n",
      "\n",
      "Epoch 00036: val_loss did not improve from 3.17152\n",
      "Epoch 37/50\n",
      "492/492 [==============================] - 9s 18ms/step - loss: 2.6815 - val_loss: 3.1638\n",
      "\n",
      "Epoch 00037: val_loss improved from 3.17152 to 3.16376, saving model to best_model.h5\n",
      "Epoch 38/50\n",
      "492/492 [==============================] - 9s 19ms/step - loss: 2.6739 - val_loss: 3.1548\n",
      "\n",
      "Epoch 00038: val_loss improved from 3.16376 to 3.15482, saving model to best_model.h5\n",
      "Epoch 39/50\n",
      "492/492 [==============================] - 10s 19ms/step - loss: 2.6657 - val_loss: 3.1623\n",
      "\n",
      "Epoch 00039: val_loss did not improve from 3.15482\n",
      "Epoch 40/50\n",
      "492/492 [==============================] - 9s 18ms/step - loss: 2.6612 - val_loss: 3.1550\n",
      "\n",
      "Epoch 00040: val_loss did not improve from 3.15482\n",
      "Epoch 41/50\n",
      "492/492 [==============================] - 8s 17ms/step - loss: 2.6540 - val_loss: 3.1543\n",
      "\n",
      "Epoch 00041: val_loss improved from 3.15482 to 3.15435, saving model to best_model.h5\n",
      "Epoch 42/50\n",
      "492/492 [==============================] - 8s 17ms/step - loss: 2.6448 - val_loss: 3.1490\n",
      "\n",
      "Epoch 00042: val_loss improved from 3.15435 to 3.14900, saving model to best_model.h5\n",
      "Epoch 43/50\n",
      "492/492 [==============================] - 8s 17ms/step - loss: 2.6422 - val_loss: 3.1526\n",
      "\n",
      "Epoch 00043: val_loss did not improve from 3.14900\n",
      "Epoch 44/50\n",
      "492/492 [==============================] - 8s 17ms/step - loss: 2.6331 - val_loss: 3.1573\n",
      "\n",
      "Epoch 00044: val_loss did not improve from 3.14900\n",
      "Epoch 45/50\n",
      "492/492 [==============================] - 8s 17ms/step - loss: 2.6231 - val_loss: 3.1473\n",
      "\n",
      "Epoch 00045: val_loss improved from 3.14900 to 3.14735, saving model to best_model.h5\n",
      "Epoch 46/50\n",
      "492/492 [==============================] - 9s 17ms/step - loss: 2.6219 - val_loss: 3.1459\n",
      "\n",
      "Epoch 00046: val_loss improved from 3.14735 to 3.14586, saving model to best_model.h5\n",
      "Epoch 47/50\n"
     ]
    },
    {
     "name": "stdout",
     "output_type": "stream",
     "text": [
      "492/492 [==============================] - 8s 17ms/step - loss: 2.6136 - val_loss: 3.1379\n",
      "\n",
      "Epoch 00047: val_loss improved from 3.14586 to 3.13794, saving model to best_model.h5\n",
      "Epoch 48/50\n",
      "492/492 [==============================] - 8s 17ms/step - loss: 2.6100 - val_loss: 3.1412\n",
      "\n",
      "Epoch 00048: val_loss did not improve from 3.13794\n",
      "Epoch 49/50\n",
      "492/492 [==============================] - 9s 18ms/step - loss: 2.6033 - val_loss: 3.1507\n",
      "\n",
      "Epoch 00049: val_loss did not improve from 3.13794\n",
      "Epoch 50/50\n",
      "492/492 [==============================] - 9s 19ms/step - loss: 2.6037 - val_loss: 3.1302\n",
      "\n",
      "Epoch 00050: val_loss improved from 3.13794 to 3.13016, saving model to best_model.h5\n"
     ]
    }
   ],
   "source": [
    "mc=ModelCheckpoint('best_model.h5', monitor='val_loss', mode='min', save_best_only=True,verbose=1)\n",
    "history = model.fit(np.array(x_tr),np.array(y_tr),batch_size=128,epochs=50, validation_data=(np.array(x_val),np.array(y_val)),verbose=1, callbacks=[mc])\n"
   ]
  },
  {
   "cell_type": "markdown",
   "id": "d4318009",
   "metadata": {},
   "source": [
    "### 5. Infer from best model\n",
    "Run best model on a random song from the validation set and play 10 timesteps from the song. "
   ]
  },
  {
   "cell_type": "code",
   "execution_count": 8,
   "id": "053bd607",
   "metadata": {},
   "outputs": [
    {
     "name": "stderr",
     "output_type": "stream",
     "text": [
      "2021-10-22 00:30:34.786163: W tensorflow/stream_executor/platform/default/dso_loader.cc:64] Could not load dynamic library 'libcudart.so.11.0'; dlerror: libcudart.so.11.0: cannot open shared object file: No such file or directory\n",
      "2021-10-22 00:30:34.786251: I tensorflow/stream_executor/cuda/cudart_stub.cc:29] Ignore above cudart dlerror if you do not have a GPU set up on your machine.\n",
      "2021-10-22 00:30:37.312779: I tensorflow/stream_executor/cuda/cuda_gpu_executor.cc:937] successful NUMA node read from SysFS had negative value (-1), but there must be at least one NUMA node, so returning NUMA node zero\n",
      "2021-10-22 00:30:37.313534: I tensorflow/stream_executor/cuda/cuda_gpu_executor.cc:937] successful NUMA node read from SysFS had negative value (-1), but there must be at least one NUMA node, so returning NUMA node zero\n",
      "2021-10-22 00:30:37.314368: W tensorflow/stream_executor/platform/default/dso_loader.cc:64] Could not load dynamic library 'libcudart.so.11.0'; dlerror: libcudart.so.11.0: cannot open shared object file: No such file or directory\n",
      "2021-10-22 00:30:37.314470: W tensorflow/stream_executor/platform/default/dso_loader.cc:64] Could not load dynamic library 'libcublas.so.11'; dlerror: libcublas.so.11: cannot open shared object file: No such file or directory\n",
      "2021-10-22 00:30:37.314554: W tensorflow/stream_executor/platform/default/dso_loader.cc:64] Could not load dynamic library 'libcublasLt.so.11'; dlerror: libcublasLt.so.11: cannot open shared object file: No such file or directory\n",
      "2021-10-22 00:30:37.314631: W tensorflow/stream_executor/platform/default/dso_loader.cc:64] Could not load dynamic library 'libcufft.so.10'; dlerror: libcufft.so.10: cannot open shared object file: No such file or directory\n",
      "2021-10-22 00:30:37.314708: W tensorflow/stream_executor/platform/default/dso_loader.cc:64] Could not load dynamic library 'libcurand.so.10'; dlerror: libcurand.so.10: cannot open shared object file: No such file or directory\n",
      "2021-10-22 00:30:37.314793: W tensorflow/stream_executor/platform/default/dso_loader.cc:64] Could not load dynamic library 'libcusolver.so.11'; dlerror: libcusolver.so.11: cannot open shared object file: No such file or directory\n",
      "2021-10-22 00:30:37.314883: W tensorflow/stream_executor/platform/default/dso_loader.cc:64] Could not load dynamic library 'libcusparse.so.11'; dlerror: libcusparse.so.11: cannot open shared object file: No such file or directory\n",
      "2021-10-22 00:30:37.314961: W tensorflow/stream_executor/platform/default/dso_loader.cc:64] Could not load dynamic library 'libcudnn.so.8'; dlerror: libcudnn.so.8: cannot open shared object file: No such file or directory\n",
      "2021-10-22 00:30:37.314974: W tensorflow/core/common_runtime/gpu/gpu_device.cc:1835] Cannot dlopen some GPU libraries. Please make sure the missing libraries mentioned above are installed properly if you would like to use GPU. Follow the guide at https://www.tensorflow.org/install/gpu for how to download and setup the required libraries for your platform.\n",
      "Skipping registering GPU devices...\n",
      "2021-10-22 00:30:37.315256: I tensorflow/core/platform/cpu_feature_guard.cc:142] This TensorFlow binary is optimized with oneAPI Deep Neural Network Library (oneDNN) to use the following CPU instructions in performance-critical operations:  AVX2 FMA\n",
      "To enable them in other operations, rebuild TensorFlow with the appropriate compiler flags.\n"
     ]
    }
   ],
   "source": [
    "#loading best model\n",
    "from keras.models import load_model\n",
    "model = load_model('best_model.h5')"
   ]
  },
  {
   "cell_type": "code",
   "execution_count": 20,
   "id": "ce58b63e",
   "metadata": {},
   "outputs": [
    {
     "name": "stdout",
     "output_type": "stream",
     "text": [
      "[29, 129, 46, 46, 46, 46, 46, 46, 58, 149]\n",
      "['G1', 'F2', '7.9.1', '7.9.1', '7.9.1', '7.9.1', '7.9.1', '7.9.1', '3.4', 'C3']\n"
     ]
    }
   ],
   "source": [
    "import random\n",
    "ind = np.random.randint(0,len(x_val)-1)\n",
    "\n",
    "random_music = x_val[ind]\n",
    "\n",
    "predictions=[]\n",
    "for i in range(10):\n",
    "\n",
    "    random_music = random_music.reshape(1,no_of_timesteps)\n",
    "\n",
    "    prob  = model.predict(random_music)[0]\n",
    "    y_pred= np.argmax(prob,axis=0)\n",
    "    predictions.append(y_pred)\n",
    "\n",
    "    random_music = np.insert(random_music[0],len(random_music[0]),y_pred)\n",
    "    random_music = random_music[1:]\n",
    "    \n",
    "x_int_to_note = dict((number, note_) for number, note_ in enumerate(unique_x)) \n",
    "predicted_notes = [x_int_to_note[i] for i in predictions]\n",
    "    \n",
    "print(predictions)\n",
    "print(predicted_notes)"
   ]
  },
  {
   "cell_type": "code",
   "execution_count": 19,
   "id": "a152556e",
   "metadata": {},
   "outputs": [
    {
     "data": {
      "text/plain": [
       "[<music21.chord.Chord F# B->,\n",
       " <music21.note.Note E>,\n",
       " <music21.note.Note E>,\n",
       " <music21.note.Note E>,\n",
       " <music21.chord.Chord F# B->,\n",
       " <music21.chord.Chord F A>,\n",
       " <music21.chord.Chord F# B->,\n",
       " <music21.chord.Chord F A>,\n",
       " <music21.note.Note G>,\n",
       " <music21.chord.Chord F A>]"
      ]
     },
     "metadata": {},
     "output_type": "display_data"
    },
    {
     "data": {
      "text/html": [
       "\n",
       "                <div id='midiPlayerDiv592624'></div>\n",
       "                <link rel=\"stylesheet\" href=\"//cuthbertLab.github.io/music21j/css/m21.css\"\n",
       "                    type=\"text/css\" />\n",
       "                <script>\n",
       "                require.config({\n",
       "                    paths: {'music21': '//cuthbertLab.github.io/music21j/src/music21'}\n",
       "                });\n",
       "                require(['music21'], function() {\n",
       "                               mp = new music21.miditools.MidiPlayer();\n",
       "                               mp.addPlayer('#midiPlayerDiv592624');\n",
       "                               mp.base64Load('data:audio/midi;base64,TVRoZAAAAAYAAQACBABNVHJrAAAAFAD/UQMHoSAA/1gEBAIYCIgA/y8ATVRyawAAAJgA/wMAAOAAQIgAkEJaAJBGWogAgEIAAIBGAACQTFqIAIBMAACQTFqIAIBMAACQQFqIAIBAAACQQloAkEZaiACAQgAAgEYAAJBBWgCQRVqIAIBBAACARQAAkEJaAJBGWogAgEIAAIBGAACQQVoAkEVaiACAQQAAgEUAAJBbWogAgFsAAJBBWgCQRVqIAIBBAACARQCIAP8vAA==');\n",
       "                        });\n",
       "                </script>"
      ],
      "text/plain": [
       "<IPython.core.display.HTML object>"
      ]
     },
     "metadata": {},
     "output_type": "display_data"
    }
   ],
   "source": [
    "def convert_to_midi(prediction_output):\n",
    "    \"\"\"\n",
    "    Return output notes to play on notebook\n",
    "    \"\"\"\n",
    "   \n",
    "    offset = 0\n",
    "    output_notes = []\n",
    "\n",
    "    # create note and chord objects based on the values generated by the model\n",
    "    for pattern in prediction_output:\n",
    "        \n",
    "        # pattern is a chord\n",
    "        if ('.' in pattern) or pattern.isdigit():\n",
    "            notes_in_chord = pattern.split('.')\n",
    "            notes = []\n",
    "            for current_note in notes_in_chord:\n",
    "                \n",
    "                cn=int(current_note)\n",
    "                new_note = note.Note(cn)\n",
    "                new_note.storedInstrument = instrument.Piano()\n",
    "                notes.append(new_note)\n",
    "                \n",
    "            new_chord = chord.Chord(notes)\n",
    "            new_chord.offset = offset\n",
    "            output_notes.append(new_chord)\n",
    "            \n",
    "        # pattern is a note\n",
    "        else:\n",
    "            \n",
    "            new_note = note.Note(pattern)\n",
    "            new_note.offset = offset\n",
    "            new_note.storedInstrument = instrument.Piano()\n",
    "            output_notes.append(new_note)\n",
    "\n",
    "        # increase offset each iteration so that notes do not stack\n",
    "        offset += 1\n",
    "    midi_stream = stream.Stream(output_notes)\n",
    "    midi_stream.write('midi', fp='music.mid')\n",
    "    \n",
    "    return output_notes\n",
    "\n",
    "output_notes = convert_to_midi(predicted_notes)\n",
    "display(output_notes)\n",
    "stream.Stream(output_notes).show('midi')"
   ]
  },
  {
   "cell_type": "code",
   "execution_count": null,
   "id": "6c1c4360",
   "metadata": {},
   "outputs": [],
   "source": []
  }
 ],
 "metadata": {
  "kernelspec": {
   "display_name": "Python 3 (ipykernel)",
   "language": "python",
   "name": "python3"
  },
  "language_info": {
   "codemirror_mode": {
    "name": "ipython",
    "version": 3
   },
   "file_extension": ".py",
   "mimetype": "text/x-python",
   "name": "python",
   "nbconvert_exporter": "python",
   "pygments_lexer": "ipython3",
   "version": "3.7.4"
  }
 },
 "nbformat": 4,
 "nbformat_minor": 5
}
